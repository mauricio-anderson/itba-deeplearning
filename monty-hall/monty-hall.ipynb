{
 "cells": [
  {
   "cell_type": "code",
   "execution_count": 1,
   "id": "669ad020-dd2c-4d00-885f-f6d1877ec3d2",
   "metadata": {},
   "outputs": [],
   "source": [
    "from random import randint, choice\n",
    "import numpy as np"
   ]
  },
  {
   "cell_type": "code",
   "execution_count": 2,
   "id": "feb641c9-3f64-47fb-9287-e49e03c1220c",
   "metadata": {},
   "outputs": [],
   "source": [
    "N = 1000 # Number of sim steps"
   ]
  },
  {
   "cell_type": "code",
   "execution_count": 3,
   "id": "0bf5deb2-b4fe-4a0c-b904-d14781917ae9",
   "metadata": {},
   "outputs": [],
   "source": [
    "class MontyHallExperiment:\n",
    "    \"\"\" Monty Hall Experiment \"\"\"\n",
    "    \n",
    "    def __init__(self, num_steps: int = N):\n",
    "        self.num_steps = num_steps\n",
    "        self.num_doors = 3 # number of door\n",
    "\n",
    "    def run(self):\n",
    "\n",
    "        change_acum = 0 \n",
    "        no_change_acum = 0\n",
    "        total = 0\n",
    "\n",
    "        for i in range(self.num_steps):\n",
    "\n",
    "            total += 1\n",
    "\n",
    "            doors = list(range(self.num_doors))\n",
    "            winner_door = choice(doors)\n",
    "            selected_door = choice(doors)\n",
    "            \n",
    "            ix = doors[:]\n",
    "            ix.remove(winner_door)\n",
    "            if selected_door != winner_door:\n",
    "                ix.remove(selected_door)\n",
    "            doors.remove(choice(ix)) # remove one the no-winner doors\n",
    "\n",
    "            if selected_door == winner_door:\n",
    "                no_change_acum += 1\n",
    "            else:\n",
    "                change_acum += 1\n",
    "            \n",
    "        print(f\"\"\"\n",
    "        Prob of winning\n",
    "          With change: {100 * change_acum/total}%\n",
    "          Without change: {100 * no_change_acum/total}%\n",
    "        \"\"\")\n"
   ]
  },
  {
   "cell_type": "code",
   "execution_count": 4,
   "id": "b9e3a9ef-a617-42bb-be43-5cf8cc187527",
   "metadata": {},
   "outputs": [
    {
     "name": "stdout",
     "output_type": "stream",
     "text": [
      "\n",
      "        Prob of winning\n",
      "          With change: 65.2%\n",
      "          Without change: 34.8%\n",
      "        \n"
     ]
    }
   ],
   "source": [
    "experiment = MontyHallExperiment()\n",
    "experiment.run()"
   ]
  }
 ],
 "metadata": {
  "kernelspec": {
   "display_name": "Python 3 (ipykernel)",
   "language": "python",
   "name": "python3"
  },
  "language_info": {
   "codemirror_mode": {
    "name": "ipython",
    "version": 3
   },
   "file_extension": ".py",
   "mimetype": "text/x-python",
   "name": "python",
   "nbconvert_exporter": "python",
   "pygments_lexer": "ipython3",
   "version": "3.10.2"
  }
 },
 "nbformat": 4,
 "nbformat_minor": 5
}
